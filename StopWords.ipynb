{
 "cells": [
  {
   "cell_type": "markdown",
   "id": "8e3cb2c7-85fa-445f-9a31-33e3047fc25e",
   "metadata": {},
   "source": [
    "### Wordnet Limmetizer"
   ]
  },
  {
   "cell_type": "markdown",
   "id": "783ce7d6-6a4a-4f11-86cd-e6a61211a76c",
   "metadata": {},
   "source": []
  },
  {
   "cell_type": "code",
   "execution_count": null,
   "id": "5dbb1e59-e8e6-4813-9b04-032231961c2e",
   "metadata": {},
   "outputs": [],
   "source": []
  },
  {
   "cell_type": "code",
   "execution_count": null,
   "id": "1dd6515b-10a4-4276-9a38-2cde6e83ec7f",
   "metadata": {},
   "outputs": [],
   "source": []
  },
  {
   "cell_type": "code",
   "execution_count": null,
   "id": "46a8d2b1-991a-405e-9f71-df14da068b85",
   "metadata": {},
   "outputs": [],
   "source": []
  },
  {
   "cell_type": "code",
   "execution_count": null,
   "id": "6b3bfe6b-8fca-4066-84c0-30cd00205e05",
   "metadata": {},
   "outputs": [],
   "source": []
  }
 ],
 "metadata": {
  "kernelspec": {
   "display_name": "Python 3 (ipykernel)",
   "language": "python",
   "name": "python3"
  },
  "language_info": {
   "codemirror_mode": {
    "name": "ipython",
    "version": 3
   },
   "file_extension": ".py",
   "mimetype": "text/x-python",
   "name": "python",
   "nbconvert_exporter": "python",
   "pygments_lexer": "ipython3",
   "version": "3.10.4"
  }
 },
 "nbformat": 4,
 "nbformat_minor": 5
}

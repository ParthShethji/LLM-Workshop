{
 "cells": [
  {
   "cell_type": "markdown",
   "id": "80398ecb-1a5a-4e7c-9f30-ebb12ac797b6",
   "metadata": {},
   "source": [
    "# Stemming\n"
   ]
  },
  {
   "cell_type": "markdown",
   "id": "4c37454a-49b2-47d6-9b56-9795a4e4bf1f",
   "metadata": {},
   "source": [
    "stemming is a technique used to reduce words to their base or root form. It involves removing suffixes from words to simplify them and group similar words together"
   ]
  },
  {
   "cell_type": "code",
   "execution_count": 9,
   "id": "5b6bd0be-6f42-4e69-a20b-b9106615b774",
   "metadata": {},
   "outputs": [],
   "source": [
    "words=[\"eating\", \"eats\",\"eaten\", \"writing\", \"writes\", \"programming\",\"programs\"]"
   ]
  },
  {
   "cell_type": "markdown",
   "id": "107ec89f-d0dc-4aad-bd86-209fa949e806",
   "metadata": {},
   "source": [
    "### Porter Stemmer"
   ]
  },
  {
   "cell_type": "code",
   "execution_count": 10,
   "id": "e681effe-6955-4868-94d4-9df17bf90bf5",
   "metadata": {},
   "outputs": [],
   "source": [
    "from nltk.stem import PorterStemmer\n",
    "stemming = PorterStemmer()"
   ]
  },
  {
   "cell_type": "code",
   "execution_count": 11,
   "id": "2aacc9ac-0a7b-4f65-a65d-b3ba9f649619",
   "metadata": {},
   "outputs": [
    {
     "name": "stdout",
     "output_type": "stream",
     "text": [
      "eating--->eat\n",
      "eats--->eat\n",
      "eaten--->eaten\n",
      "writing--->write\n",
      "writes--->write\n",
      "programming--->program\n",
      "programs--->program\n"
     ]
    }
   ],
   "source": [
    "for word in words:\n",
    "    print(word + \"--->\" + stemming.stem(word))"
   ]
  },
  {
   "cell_type": "markdown",
   "id": "1a898699-fc56-496f-928a-3eff8705d6c0",
   "metadata": {},
   "source": [
    "But for some examples this may not give correcr output for example here history, congratulation this is a major disadvantage of stemming we can make it right with limitation"
   ]
  },
  {
   "cell_type": "markdown",
   "id": "f3fb2f8a-07e3-4a39-98fd-88b9707b32df",
   "metadata": {},
   "source": [
    "### RegexpStemmer Class"
   ]
  },
  {
   "cell_type": "markdown",
   "id": "4e4279c4-615b-417f-bf6a-dfbff42a26d6",
   "metadata": {},
   "source": [
    "NLTK has RegexpStemmer class with the help of which we can easily implement Regular\n",
    "Expression Stemmer algorithms.lt basically takes a single regular expression and removes any\n",
    "prefix or suffix that matches the expression. Let us see an example"
   ]
  },
  {
   "cell_type": "code",
   "execution_count": 23,
   "id": "a70281b2-d03a-4e7b-877b-948754af5d4e",
   "metadata": {},
   "outputs": [],
   "source": [
    "from nltk.stem import RegexpStemmer\n",
    "reg_stemmer=RegexpStemmer ('$ing| s$| e$|able$', min=4)\n",
    "# if we dont put $ it will take fro start and end if we put at end it will take from end if from start then form start"
   ]
  },
  {
   "cell_type": "code",
   "execution_count": 24,
   "id": "378bda62-2a02-4162-b857-68afdf1342a8",
   "metadata": {},
   "outputs": [
    {
     "data": {
      "text/plain": [
       "'eating'"
      ]
     },
     "execution_count": 24,
     "metadata": {},
     "output_type": "execute_result"
    }
   ],
   "source": [
    "reg_stemmer.stem('eating')"
   ]
  },
  {
   "cell_type": "code",
   "execution_count": 25,
   "id": "bad69d08-8050-4d2d-86ff-017ab0ceb386",
   "metadata": {},
   "outputs": [
    {
     "data": {
      "text/plain": [
       "'ingeat'"
      ]
     },
     "execution_count": 25,
     "metadata": {},
     "output_type": "execute_result"
    }
   ],
   "source": [
    "reg_stemmer.stem('ingeat')"
   ]
  },
  {
   "cell_type": "markdown",
   "id": "bb52523c-5186-4f10-af8e-99c97a0de253",
   "metadata": {},
   "source": [
    "### Snowball Stemmer"
   ]
  },
  {
   "cell_type": "markdown",
   "id": "d50cfa05-0067-4df5-aded-817456e5c865",
   "metadata": {},
   "source": [
    "reduce words to their base or root form across different languages, making it versatile for multilingual text processing. It follows a set of rules to strip suffixes from words, helping to standardize and simplify the vocabulary for analysis and classification tasks."
   ]
  },
  {
   "cell_type": "code",
   "execution_count": 28,
   "id": "e71e77ef-aa6b-4c7f-bc4f-02a84ad90b2f",
   "metadata": {},
   "outputs": [],
   "source": [
    "from nltk.stem import SnowballStemmer\n",
    "snowballsstemmer=SnowballStemmer ('english')"
   ]
  },
  {
   "cell_type": "code",
   "execution_count": 32,
   "id": "ebd5d28a-a49d-4df1-9133-400a24846858",
   "metadata": {},
   "outputs": [
    {
     "name": "stdout",
     "output_type": "stream",
     "text": [
      "eating---->eat\n",
      "eats---->eat\n",
      "eaten---->eaten\n",
      "writing---->write\n",
      "writes---->write\n",
      "programming---->program\n",
      "programs---->program\n"
     ]
    }
   ],
   "source": [
    "for word in words:\n",
    "    print (word+\"---->\" +snowballsstemmer.stem(word))\n",
    "#check this stemmer for fairly and sportingly it gives better results than porter"
   ]
  },
  {
   "cell_type": "code",
   "execution_count": null,
   "id": "42b0f21d-c5c5-45d8-8f7f-fb9249164d87",
   "metadata": {},
   "outputs": [],
   "source": []
  }
 ],
 "metadata": {
  "kernelspec": {
   "display_name": "Python 3 (ipykernel)",
   "language": "python",
   "name": "python3"
  },
  "language_info": {
   "codemirror_mode": {
    "name": "ipython",
    "version": 3
   },
   "file_extension": ".py",
   "mimetype": "text/x-python",
   "name": "python",
   "nbconvert_exporter": "python",
   "pygments_lexer": "ipython3",
   "version": "3.10.4"
  }
 },
 "nbformat": 4,
 "nbformat_minor": 5
}

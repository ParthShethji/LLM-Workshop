{
 "cells": [
  {
   "cell_type": "code",
   "execution_count": 2,
   "id": "4ff93fbd-9eff-479d-b173-6a22503817d1",
   "metadata": {},
   "outputs": [
    {
     "name": "stdout",
     "output_type": "stream",
     "text": [
      "Requirement already satisfied: nltk in c:\\users\\parth shethji\\appdata\\local\\programs\\python\\python310\\lib\\site-packages (3.8.1)\n",
      "Requirement already satisfied: tqdm in c:\\users\\parth shethji\\appdata\\local\\programs\\python\\python310\\lib\\site-packages (from nltk) (4.64.0)\n",
      "Requirement already satisfied: regex>=2021.8.3 in c:\\users\\parth shethji\\appdata\\local\\programs\\python\\python310\\lib\\site-packages (from nltk) (2023.3.23)\n",
      "Requirement already satisfied: click in c:\\users\\parth shethji\\appdata\\local\\programs\\python\\python310\\lib\\site-packages (from nltk) (8.1.3)\n",
      "Requirement already satisfied: joblib in c:\\users\\parth shethji\\appdata\\local\\programs\\python\\python310\\lib\\site-packages (from nltk) (1.1.0)\n",
      "Requirement already satisfied: colorama in c:\\users\\parth shethji\\appdata\\local\\programs\\python\\python310\\lib\\site-packages (from click->nltk) (0.4.4)\n"
     ]
    },
    {
     "name": "stderr",
     "output_type": "stream",
     "text": [
      "\n",
      "[notice] A new release of pip is available: 23.0.1 -> 23.3.2\n",
      "[notice] To update, run: python.exe -m pip install --upgrade pip\n"
     ]
    }
   ],
   "source": [
    "!pip install nltk"
   ]
  },
  {
   "cell_type": "code",
   "execution_count": 3,
   "id": "75909b24-91dc-43a5-9949-f55c7f84bbc9",
   "metadata": {},
   "outputs": [],
   "source": [
    "corpus = \"\"\"NLTK might be a good choice! if you are looking for a wide range of NLP functionalities and a large community.\n",
    "If you need a library that is fast, efficient, and easy to use SpaCy might be more suitable.\n",
    "\"\"\""
   ]
  },
  {
   "cell_type": "code",
   "execution_count": 4,
   "id": "82ef2f40-4e93-43ae-b5d3-9ad1c4f383e1",
   "metadata": {},
   "outputs": [
    {
     "name": "stdout",
     "output_type": "stream",
     "text": [
      "NLTK might be a good choice! if you are looking for a wide range of NLP functionalities and a large community.\n",
      "If you need a library that is fast, efficient, and easy to use SpaCy might be more suitable.\n",
      "\n"
     ]
    }
   ],
   "source": [
    "print(corpus)"
   ]
  },
  {
   "cell_type": "code",
   "execution_count": 5,
   "id": "e413ec16-7b1d-4e62-aee9-883df17b7c00",
   "metadata": {},
   "outputs": [],
   "source": [
    "## convert sentenct --> paragraph\n",
    "from nltk.tokenize import sent_tokenize\n",
    "## sent_tokenize - converts paragraph into sentences\n",
    "document = sent_tokenize(corpus)"
   ]
  },
  {
   "cell_type": "code",
   "execution_count": 6,
   "id": "412a9d46-ce57-4399-b131-7c2735bd7f6e",
   "metadata": {},
   "outputs": [
    {
     "name": "stdout",
     "output_type": "stream",
     "text": [
      "NLTK might be a good choice!\n",
      "if you are looking for a wide range of NLP functionalities and a large community.\n",
      "If you need a library that is fast, efficient, and easy to use SpaCy might be more suitable.\n"
     ]
    }
   ],
   "source": [
    "for sentence in document:\n",
    "    print(sentence)"
   ]
  },
  {
   "cell_type": "code",
   "execution_count": 7,
   "id": "0a3f5c8a-14ac-410d-8595-3e6157fa5469",
   "metadata": {},
   "outputs": [],
   "source": [
    "## convert sentenct --> words\n",
    "## convert pararaph --> words\n",
    "from nltk.tokenize import word_tokenize\n",
    "word = word_tokenize(corpus)"
   ]
  },
  {
   "cell_type": "code",
   "execution_count": 8,
   "id": "aca2a16d-765f-4648-93ef-4639cf8e2118",
   "metadata": {},
   "outputs": [
    {
     "data": {
      "text/plain": [
       "['NLTK',\n",
       " 'might',\n",
       " 'be',\n",
       " 'a',\n",
       " 'good',\n",
       " 'choice',\n",
       " '!',\n",
       " 'if',\n",
       " 'you',\n",
       " 'are',\n",
       " 'looking',\n",
       " 'for',\n",
       " 'a',\n",
       " 'wide',\n",
       " 'range',\n",
       " 'of',\n",
       " 'NLP',\n",
       " 'functionalities',\n",
       " 'and',\n",
       " 'a',\n",
       " 'large',\n",
       " 'community',\n",
       " '.',\n",
       " 'If',\n",
       " 'you',\n",
       " 'need',\n",
       " 'a',\n",
       " 'library',\n",
       " 'that',\n",
       " 'is',\n",
       " 'fast',\n",
       " ',',\n",
       " 'efficient',\n",
       " ',',\n",
       " 'and',\n",
       " 'easy',\n",
       " 'to',\n",
       " 'use',\n",
       " 'SpaCy',\n",
       " 'might',\n",
       " 'be',\n",
       " 'more',\n",
       " 'suitable',\n",
       " '.']"
      ]
     },
     "execution_count": 8,
     "metadata": {},
     "output_type": "execute_result"
    }
   ],
   "source": [
    "## remove punctuations\n",
    "from nltk.tokenize import wordpunct_tokenize\n",
    "##here apostrophe s is also splitted mean severything is splited here\n",
    "wordpunct_tokenize(corpus)"
   ]
  },
  {
   "cell_type": "code",
   "execution_count": 9,
   "id": "195579ae-4755-4947-a51d-414b3d2d8352",
   "metadata": {},
   "outputs": [
    {
     "data": {
      "text/plain": [
       "['NLTK',\n",
       " 'might',\n",
       " 'be',\n",
       " 'a',\n",
       " 'good',\n",
       " 'choice',\n",
       " '!',\n",
       " 'if',\n",
       " 'you',\n",
       " 'are',\n",
       " 'looking',\n",
       " 'for',\n",
       " 'a',\n",
       " 'wide',\n",
       " 'range',\n",
       " 'of',\n",
       " 'NLP',\n",
       " 'functionalities',\n",
       " 'and',\n",
       " 'a',\n",
       " 'large',\n",
       " 'community.',\n",
       " 'If',\n",
       " 'you',\n",
       " 'need',\n",
       " 'a',\n",
       " 'library',\n",
       " 'that',\n",
       " 'is',\n",
       " 'fast',\n",
       " ',',\n",
       " 'efficient',\n",
       " ',',\n",
       " 'and',\n",
       " 'easy',\n",
       " 'to',\n",
       " 'use',\n",
       " 'SpaCy',\n",
       " 'might',\n",
       " 'be',\n",
       " 'more',\n",
       " 'suitable',\n",
       " '.']"
      ]
     },
     "execution_count": 9,
     "metadata": {},
     "output_type": "execute_result"
    }
   ],
   "source": [
    "from nltk.tokenize import TreebankWordTokenizer\n",
    "tokenizer = TreebankWordTokenizer()\n",
    "tokenizer.tokenize(corpus)\n",
    "## here fullstop is not created as new word  in all above things fullstop was created as new word"
   ]
  },
  {
   "cell_type": "code",
   "execution_count": null,
   "id": "0f603f88-577b-498e-a8f5-9df4584bc21e",
   "metadata": {},
   "outputs": [],
   "source": []
  }
 ],
 "metadata": {
  "kernelspec": {
   "display_name": "Python 3 (ipykernel)",
   "language": "python",
   "name": "python3"
  },
  "language_info": {
   "codemirror_mode": {
    "name": "ipython",
    "version": 3
   },
   "file_extension": ".py",
   "mimetype": "text/x-python",
   "name": "python",
   "nbconvert_exporter": "python",
   "pygments_lexer": "ipython3",
   "version": "3.10.4"
  }
 },
 "nbformat": 4,
 "nbformat_minor": 5
}

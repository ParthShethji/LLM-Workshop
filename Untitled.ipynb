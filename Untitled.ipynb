{
 "cells": [
  {
   "cell_type": "code",
   "execution_count": 1,
   "id": "6ea00eee-cd73-433a-a842-4bed05aef667",
   "metadata": {},
   "outputs": [],
   "source": [
    "from sklearn.feature_extraction.text import CountVectorizer\n",
    "from sklearn.model_selection import train_test_split\n",
    "\n"
   ]
  },
  {
   "cell_type": "code",
   "execution_count": 2,
   "id": "6e656460-ceaf-484f-8514-2f02983f064e",
   "metadata": {},
   "outputs": [],
   "source": [
    "corpus = [\"This is a positive document.\", \"Negative sentiment in this text.\", \"Another positive example.\"]\n",
    "labels = [1, 0, 1]  # 1 for positive, 0 for negative"
   ]
  },
  {
   "cell_type": "code",
   "execution_count": 3,
   "id": "bfd84335-859f-4af2-8c6b-953a84f6de63",
   "metadata": {},
   "outputs": [],
   "source": [
    "vectorizer = CountVectorizer()\n",
    "X = vectorizer.fit_transform(corpus)\n",
    "X_train, X_test, y_train, y_test = train_test_split(X, labels, test_size=0.2, random_state=42)"
   ]
  },
  {
   "cell_type": "code",
   "execution_count": 4,
   "id": "5c8e27ad-46a8-4af5-9437-e5ba40c467da",
   "metadata": {},
   "outputs": [
    {
     "name": "stdout",
     "output_type": "stream",
     "text": [
      "Vocabulary: ['another' 'document' 'example' 'in' 'is' 'negative' 'positive'\n",
      " 'sentiment' 'text' 'this']\n"
     ]
    }
   ],
   "source": [
    "print(\"Vocabulary:\", vectorizer.get_feature_names_out())"
   ]
  },
  {
   "cell_type": "code",
   "execution_count": 5,
   "id": "9dacec53-b4dc-422a-b64a-780624238fdf",
   "metadata": {},
   "outputs": [
    {
     "name": "stdout",
     "output_type": "stream",
     "text": [
      "Vectors of all sentences:\n",
      "[[0 1 0 0 1 0 1 0 0 1]\n",
      " [0 0 0 1 0 1 0 1 1 1]\n",
      " [1 0 1 0 0 0 1 0 0 0]]\n"
     ]
    }
   ],
   "source": [
    "all_sentences_vectors = X.toarray()\n",
    "\n",
    "# Displaying the vectors\n",
    "print(\"Vectors of all sentences:\")\n",
    "print(all_sentences_vectors)\n"
   ]
  },
  {
   "cell_type": "code",
   "execution_count": null,
   "id": "20715b91-e79f-471d-b387-6821884a71f9",
   "metadata": {},
   "outputs": [],
   "source": []
  }
 ],
 "metadata": {
  "kernelspec": {
   "display_name": "Python 3 (ipykernel)",
   "language": "python",
   "name": "python3"
  },
  "language_info": {
   "codemirror_mode": {
    "name": "ipython",
    "version": 3
   },
   "file_extension": ".py",
   "mimetype": "text/x-python",
   "name": "python",
   "nbconvert_exporter": "python",
   "pygments_lexer": "ipython3",
   "version": "3.10.4"
  }
 },
 "nbformat": 4,
 "nbformat_minor": 5
}
